{
 "cells": [
  {
   "cell_type": "code",
   "execution_count": null,
   "metadata": {
    "ExecuteTime": {
     "end_time": "2020-02-15T09:57:50.791332Z",
     "start_time": "2020-02-15T09:57:46.068701Z"
    },
    "scrolled": true
   },
   "outputs": [],
   "source": [
    "!pip install napari\n",
    "!pip install SimpleITK"
   ]
  },
  {
   "cell_type": "code",
   "execution_count": 7,
   "metadata": {
    "ExecuteTime": {
     "end_time": "2020-02-16T16:54:54.920459Z",
     "start_time": "2020-02-16T16:54:54.669509Z"
    }
   },
   "outputs": [
    {
     "name": "stdout",
     "output_type": "stream",
     "text": [
      "Running test environment: False\n"
     ]
    }
   ],
   "source": [
    "%reload_ext autoreload\n",
    "%autoreload 2\n",
    "%matplotlib inline\n",
    "%gui qt\n",
    "import os\n",
    "if 'TEST_ENV' in os.environ:\n",
    "    TEST_ENV = os.environ['TEST_ENV'].lower() == \"true\"\n",
    "else:\n",
    "    TEST_ENV = 0\n",
    "print(f\"Running test environment: {bool(TEST_ENV)}\")"
   ]
  },
  {
   "cell_type": "code",
   "execution_count": null,
   "metadata": {
    "ExecuteTime": {
     "end_time": "2020-02-15T11:55:06.130717Z",
     "start_time": "2020-02-15T11:54:22.119553Z"
    }
   },
   "outputs": [],
   "source": [
    "from io import BytesIO\n",
    "from zipfile import ZipFile\n",
    "from urllib.request import urlopen\n",
    "\n",
    "resp = urlopen(\"http://www.fmrib.ox.ac.uk/primers/intro_primer/ExBox3/ExBox3.zip\")\n",
    "zipfile = ZipFile(BytesIO(resp.read()))\n",
    "\n",
    "img_file = zipfile.extract(\"ExBox3/T1_brain.nii.gz\")\n",
    "mask_file = zipfile.extract(\"ExBox3/T1_brain_seg.nii.gz\")"
   ]
  },
  {
   "cell_type": "code",
   "execution_count": 2,
   "metadata": {
    "ExecuteTime": {
     "end_time": "2020-02-16T16:55:01.394975Z",
     "start_time": "2020-02-16T16:55:00.893340Z"
    }
   },
   "outputs": [
    {
     "name": "stdout",
     "output_type": "stream",
     "text": [
      "Image shape (192, 192, 174)\n",
      "Image shape (192, 192, 174)\n"
     ]
    }
   ],
   "source": [
    "import SimpleITK as sitk\n",
    "import numpy as np\n",
    "\n",
    "# load image and mask\n",
    "img_file = \"./ExBox3/T1_brain.nii.gz\"\n",
    "mask_file = \"./ExBox3/T1_brain_seg.nii.gz\"\n",
    "img = sitk.GetArrayFromImage(sitk.ReadImage(img_file))\n",
    "img = img.astype(np.float32)\n",
    "mask = mask = sitk.GetArrayFromImage(sitk.ReadImage(mask_file))\n",
    "mask = mask.astype(np.float32)\n",
    "\n",
    "assert mask.shape == img.shape\n",
    "print(f\"Image shape {img.shape}\")\n",
    "print(f\"Image shape {mask.shape}\")"
   ]
  },
  {
   "cell_type": "code",
   "execution_count": 3,
   "metadata": {
    "ExecuteTime": {
     "end_time": "2020-02-16T16:55:04.255613Z",
     "start_time": "2020-02-16T16:55:03.213336Z"
    }
   },
   "outputs": [
    {
     "name": "stderr",
     "output_type": "stream",
     "text": [
      "/Users/micha/miniconda3/envs/phoenix/lib/python3.7/site-packages/qtpy/__init__.py:216: RuntimeWarning: Selected binding \"pyqt5\" could not be found, using \"pyside2\"\n",
      "  'using \"{}\"'.format(initial_api, API), RuntimeWarning)\n"
     ]
    }
   ],
   "source": [
    "if TEST_ENV:\n",
    "    def view_batch(batch):\n",
    "        pass\n",
    "else:\n",
    "    %gui qt\n",
    "    import napari\n",
    "    def view_batch(batch):\n",
    "            viewer = napari.view_image(batch[\"data\"].cpu().numpy(), name=\"data\")\n",
    "            viewer.add_image(batch[\"mask\"].cpu().numpy(), name=\"mask\", opacity=0.2)"
   ]
  },
  {
   "cell_type": "code",
   "execution_count": 4,
   "metadata": {
    "ExecuteTime": {
     "end_time": "2020-02-16T16:55:54.082493Z",
     "start_time": "2020-02-16T16:55:54.019599Z"
    }
   },
   "outputs": [],
   "source": [
    "import torch\n",
    "from rising.transforms import *\n",
    "\n",
    "batch = {\n",
    "    \"data\": torch.from_numpy(img).float()[None, None],\n",
    "    \"mask\": torch.from_numpy(mask).long()[None, None],\n",
    "}\n",
    "\n",
    "def apply_transform(trafo, batch):\n",
    "    transformed = trafo(**batch)\n",
    "    print(f\"Transformed data shape: {transformed['data'].shape}\")\n",
    "    print(f\"Transformed mask shape: {transformed['mask'].shape}\")\n",
    "    print(f\"Transformed data min: {transformed['data'].min()}\")\n",
    "    print(f\"Transformed data max: {transformed['data'].max()}\")\n",
    "    print(f\"Transformed data mean: {transformed['data'].mean()}\")\n",
    "    return transformed"
   ]
  },
  {
   "cell_type": "code",
   "execution_count": 5,
   "metadata": {
    "ExecuteTime": {
     "end_time": "2020-02-16T16:55:06.109008Z",
     "start_time": "2020-02-16T16:55:06.069336Z"
    }
   },
   "outputs": [
    {
     "name": "stdout",
     "output_type": "stream",
     "text": [
      "Transformed data shape: torch.Size([1, 1, 192, 192, 174])\n",
      "Transformed mask shape: torch.Size([1, 1, 192, 192, 174])\n",
      "Transformed data min: 0.0\n",
      "Transformed data max: 502.0\n",
      "Transformed data mean: 37.62009048461914\n"
     ]
    }
   ],
   "source": [
    "print(f\"Transformed data shape: {batch['data'].shape}\")\n",
    "print(f\"Transformed mask shape: {batch['mask'].shape}\")\n",
    "print(f\"Transformed data min: {batch['data'].min()}\")\n",
    "print(f\"Transformed data max: {batch['data'].max()}\")\n",
    "print(f\"Transformed data mean: {batch['data'].mean()}\")"
   ]
  },
  {
   "cell_type": "code",
   "execution_count": 8,
   "metadata": {
    "ExecuteTime": {
     "end_time": "2020-02-16T16:55:57.391117Z",
     "start_time": "2020-02-16T16:55:55.675294Z"
    }
   },
   "outputs": [
    {
     "name": "stdout",
     "output_type": "stream",
     "text": [
      "Transformed data shape: torch.Size([1, 1, 192, 192, 174])\n",
      "Transformed mask shape: torch.Size([1, 1, 192, 192, 174])\n",
      "Transformed data min: 0.0\n",
      "Transformed data max: 445.4209289550781\n",
      "Transformed data mean: 110.88246154785156\n"
     ]
    }
   ],
   "source": [
    "trafo = Scale(1.5, adjust_size=False)\n",
    "transformed = apply_transform(trafo, batch)\n",
    "view_batch(transformed)"
   ]
  },
  {
   "cell_type": "code",
   "execution_count": null,
   "metadata": {
    "ExecuteTime": {
     "end_time": "2020-02-16T17:03:58.535489Z",
     "start_time": "2020-02-16T17:03:57.964843Z"
    }
   },
   "outputs": [],
   "source": [
    "trafo = Rotate([0, 0, 45], degree=True, adjust_size=False)\n",
    "transformed = apply_transform(trafo, batch)\n",
    "view_batch(transformed)"
   ]
  },
  {
   "cell_type": "code",
   "execution_count": null,
   "metadata": {
    "ExecuteTime": {
     "end_time": "2020-02-16T16:00:26.032367Z",
     "start_time": "2020-02-16T16:00:25.466391Z"
    }
   },
   "outputs": [],
   "source": [
    "trafo = Translate([0.1, 0, 0], adjust_size=False)\n",
    "transformed = apply_transform(trafo, batch)\n",
    "view_batch(transformed)"
   ]
  },
  {
   "cell_type": "code",
   "execution_count": null,
   "metadata": {},
   "outputs": [],
   "source": [
    "trafo = CenterCropGrid(100)\n",
    "transformed = apply_transform(trafo, batch)\n",
    "view_batch(transformed)"
   ]
  },
  {
   "cell_type": "code",
   "execution_count": null,
   "metadata": {},
   "outputs": [],
   "source": [
    "trafo = RandomDistortion(noise_type=\"normal\", noise_kwargs={\"mean\": 0.1, \"std\": 0.005})\n",
    "transformed = apply_transform(trafo, batch)\n",
    "view_batch(transformed)"
   ]
  },
  {
   "cell_type": "code",
   "execution_count": 48,
   "metadata": {},
   "outputs": [
    {
     "name": "stdout",
     "output_type": "stream",
     "text": [
      "tensor(0.4000)\n",
      "tensor(0.0002)\n",
      "{(1, 1, 192, 192, 174): tensor([[[[[-0.5966, -0.5969, -0.5969],\n",
      "           [-0.5927, -0.5999, -0.5999],\n",
      "           [-0.5887, -0.6029, -0.6029],\n",
      "           ...,\n",
      "           [ 0.5887, -0.6029, -0.6029],\n",
      "           [ 0.5927, -0.5999, -0.5999],\n",
      "           [ 0.5966, -0.5969, -0.5969]],\n",
      "\n",
      "          [[-0.5993, -0.5934, -0.5996],\n",
      "           [-0.5954, -0.5964, -0.6027],\n",
      "           [-0.5914, -0.5994, -0.6057],\n",
      "           ...,\n",
      "           [ 0.5914, -0.5994, -0.6057],\n",
      "           [ 0.5954, -0.5964, -0.6027],\n",
      "           [ 0.5993, -0.5934, -0.5996]],\n",
      "\n",
      "          [[-0.6020, -0.5898, -0.6024],\n",
      "           [-0.5981, -0.5927, -0.6054],\n",
      "           [-0.5940, -0.5957, -0.6084],\n",
      "           ...,\n",
      "           [ 0.5940, -0.5957, -0.6084],\n",
      "           [ 0.5981, -0.5927, -0.6054],\n",
      "           [ 0.6020, -0.5898, -0.6024]],\n",
      "\n",
      "          ...,\n",
      "\n",
      "          [[-0.6020,  0.5898, -0.6024],\n",
      "           [-0.5981,  0.5927, -0.6054],\n",
      "           [-0.5940,  0.5957, -0.6084],\n",
      "           ...,\n",
      "           [ 0.5940,  0.5957, -0.6084],\n",
      "           [ 0.5981,  0.5927, -0.6054],\n",
      "           [ 0.6020,  0.5898, -0.6024]],\n",
      "\n",
      "          [[-0.5993,  0.5934, -0.5996],\n",
      "           [-0.5954,  0.5964, -0.6027],\n",
      "           [-0.5914,  0.5994, -0.6057],\n",
      "           ...,\n",
      "           [ 0.5914,  0.5994, -0.6057],\n",
      "           [ 0.5954,  0.5964, -0.6027],\n",
      "           [ 0.5993,  0.5934, -0.5996]],\n",
      "\n",
      "          [[-0.5966,  0.5969, -0.5969],\n",
      "           [-0.5927,  0.5999, -0.5999],\n",
      "           [-0.5887,  0.6029, -0.6029],\n",
      "           ...,\n",
      "           [ 0.5887,  0.6029, -0.6029],\n",
      "           [ 0.5927,  0.5999, -0.5999],\n",
      "           [ 0.5966,  0.5969, -0.5969]]],\n",
      "\n",
      "\n",
      "         [[[-0.5993, -0.5996, -0.5934],\n",
      "           [-0.5954, -0.6027, -0.5964],\n",
      "           [-0.5914, -0.6057, -0.5994],\n",
      "           ...,\n",
      "           [ 0.5914, -0.6057, -0.5994],\n",
      "           [ 0.5954, -0.6027, -0.5964],\n",
      "           [ 0.5993, -0.5996, -0.5934]],\n",
      "\n",
      "          [[-0.6021, -0.5961, -0.5961],\n",
      "           [-0.5981, -0.5991, -0.5991],\n",
      "           [-0.5941, -0.6021, -0.6021],\n",
      "           ...,\n",
      "           [ 0.5941, -0.6021, -0.6021],\n",
      "           [ 0.5981, -0.5991, -0.5991],\n",
      "           [ 0.6021, -0.5961, -0.5961]],\n",
      "\n",
      "          [[-0.6048, -0.5925, -0.5988],\n",
      "           [-0.6008, -0.5954, -0.6018],\n",
      "           [-0.5967, -0.5984, -0.6048],\n",
      "           ...,\n",
      "           [ 0.5967, -0.5984, -0.6048],\n",
      "           [ 0.6008, -0.5954, -0.6018],\n",
      "           [ 0.6048, -0.5925, -0.5988]],\n",
      "\n",
      "          ...,\n",
      "\n",
      "          [[-0.6048,  0.5925, -0.5988],\n",
      "           [-0.6008,  0.5954, -0.6018],\n",
      "           [-0.5967,  0.5984, -0.6048],\n",
      "           ...,\n",
      "           [ 0.5967,  0.5984, -0.6048],\n",
      "           [ 0.6008,  0.5954, -0.6018],\n",
      "           [ 0.6048,  0.5925, -0.5988]],\n",
      "\n",
      "          [[-0.6021,  0.5961, -0.5961],\n",
      "           [-0.5981,  0.5991, -0.5991],\n",
      "           [-0.5941,  0.6021, -0.6021],\n",
      "           ...,\n",
      "           [ 0.5941,  0.6021, -0.6021],\n",
      "           [ 0.5981,  0.5991, -0.5991],\n",
      "           [ 0.6021,  0.5961, -0.5961]],\n",
      "\n",
      "          [[-0.5993,  0.5996, -0.5934],\n",
      "           [-0.5954,  0.6027, -0.5964],\n",
      "           [-0.5914,  0.6057, -0.5994],\n",
      "           ...,\n",
      "           [ 0.5914,  0.6057, -0.5994],\n",
      "           [ 0.5954,  0.6027, -0.5964],\n",
      "           [ 0.5993,  0.5996, -0.5934]]],\n",
      "\n",
      "\n",
      "         [[[-0.6020, -0.6024, -0.5898],\n",
      "           [-0.5981, -0.6054, -0.5927],\n",
      "           [-0.5940, -0.6084, -0.5957],\n",
      "           ...,\n",
      "           [ 0.5940, -0.6084, -0.5957],\n",
      "           [ 0.5981, -0.6054, -0.5927],\n",
      "           [ 0.6020, -0.6024, -0.5898]],\n",
      "\n",
      "          [[-0.6048, -0.5988, -0.5925],\n",
      "           [-0.6008, -0.6018, -0.5954],\n",
      "           [-0.5967, -0.6048, -0.5984],\n",
      "           ...,\n",
      "           [ 0.5967, -0.6048, -0.5984],\n",
      "           [ 0.6008, -0.6018, -0.5954],\n",
      "           [ 0.6048, -0.5988, -0.5925]],\n",
      "\n",
      "          [[-0.6075, -0.5951, -0.5951],\n",
      "           [-0.6035, -0.5981, -0.5981],\n",
      "           [-0.5994, -0.6011, -0.6011],\n",
      "           ...,\n",
      "           [ 0.5994, -0.6011, -0.6011],\n",
      "           [ 0.6035, -0.5981, -0.5981],\n",
      "           [ 0.6075, -0.5951, -0.5951]],\n",
      "\n",
      "          ...,\n",
      "\n",
      "          [[-0.6075,  0.5951, -0.5951],\n",
      "           [-0.6035,  0.5981, -0.5981],\n",
      "           [-0.5994,  0.6011, -0.6011],\n",
      "           ...,\n",
      "           [ 0.5994,  0.6011, -0.6011],\n",
      "           [ 0.6035,  0.5981, -0.5981],\n",
      "           [ 0.6075,  0.5951, -0.5951]],\n",
      "\n",
      "          [[-0.6048,  0.5988, -0.5925],\n",
      "           [-0.6008,  0.6018, -0.5954],\n",
      "           [-0.5967,  0.6048, -0.5984],\n",
      "           ...,\n",
      "           [ 0.5967,  0.6048, -0.5984],\n",
      "           [ 0.6008,  0.6018, -0.5954],\n",
      "           [ 0.6048,  0.5988, -0.5925]],\n",
      "\n",
      "          [[-0.6020,  0.6024, -0.5898],\n",
      "           [-0.5981,  0.6054, -0.5927],\n",
      "           [-0.5940,  0.6084, -0.5957],\n",
      "           ...,\n",
      "           [ 0.5940,  0.6084, -0.5957],\n",
      "           [ 0.5981,  0.6054, -0.5927],\n",
      "           [ 0.6020,  0.6024, -0.5898]]],\n",
      "\n",
      "\n",
      "         ...,\n",
      "\n",
      "\n",
      "         [[[-0.6020, -0.6024,  0.5898],\n",
      "           [-0.5981, -0.6054,  0.5927],\n",
      "           [-0.5940, -0.6084,  0.5957],\n",
      "           ...,\n",
      "           [ 0.5940, -0.6084,  0.5957],\n",
      "           [ 0.5981, -0.6054,  0.5927],\n",
      "           [ 0.6020, -0.6024,  0.5898]],\n",
      "\n",
      "          [[-0.6048, -0.5988,  0.5925],\n",
      "           [-0.6008, -0.6018,  0.5954],\n",
      "           [-0.5967, -0.6048,  0.5984],\n",
      "           ...,\n",
      "           [ 0.5967, -0.6048,  0.5984],\n",
      "           [ 0.6008, -0.6018,  0.5954],\n",
      "           [ 0.6048, -0.5988,  0.5925]],\n",
      "\n",
      "          [[-0.6075, -0.5951,  0.5951],\n",
      "           [-0.6035, -0.5981,  0.5981],\n",
      "           [-0.5994, -0.6011,  0.6011],\n",
      "           ...,\n",
      "           [ 0.5994, -0.6011,  0.6011],\n",
      "           [ 0.6035, -0.5981,  0.5981],\n",
      "           [ 0.6075, -0.5951,  0.5951]],\n",
      "\n",
      "          ...,\n",
      "\n",
      "          [[-0.6075,  0.5951,  0.5951],\n",
      "           [-0.6035,  0.5981,  0.5981],\n",
      "           [-0.5994,  0.6011,  0.6011],\n",
      "           ...,\n",
      "           [ 0.5994,  0.6011,  0.6011],\n",
      "           [ 0.6035,  0.5981,  0.5981],\n",
      "           [ 0.6075,  0.5951,  0.5951]],\n",
      "\n",
      "          [[-0.6048,  0.5988,  0.5925],\n",
      "           [-0.6008,  0.6018,  0.5954],\n",
      "           [-0.5967,  0.6048,  0.5984],\n",
      "           ...,\n",
      "           [ 0.5967,  0.6048,  0.5984],\n",
      "           [ 0.6008,  0.6018,  0.5954],\n",
      "           [ 0.6048,  0.5988,  0.5925]],\n",
      "\n",
      "          [[-0.6020,  0.6024,  0.5898],\n",
      "           [-0.5981,  0.6054,  0.5927],\n",
      "           [-0.5940,  0.6084,  0.5957],\n",
      "           ...,\n",
      "           [ 0.5940,  0.6084,  0.5957],\n",
      "           [ 0.5981,  0.6054,  0.5927],\n",
      "           [ 0.6020,  0.6024,  0.5898]]],\n",
      "\n",
      "\n",
      "         [[[-0.5993, -0.5996,  0.5934],\n",
      "           [-0.5954, -0.6027,  0.5964],\n",
      "           [-0.5914, -0.6057,  0.5994],\n",
      "           ...,\n",
      "           [ 0.5914, -0.6057,  0.5994],\n",
      "           [ 0.5954, -0.6027,  0.5964],\n",
      "           [ 0.5993, -0.5996,  0.5934]],\n",
      "\n",
      "          [[-0.6021, -0.5961,  0.5961],\n",
      "           [-0.5981, -0.5991,  0.5991],\n",
      "           [-0.5941, -0.6021,  0.6021],\n",
      "           ...,\n",
      "           [ 0.5941, -0.6021,  0.6021],\n",
      "           [ 0.5981, -0.5991,  0.5991],\n",
      "           [ 0.6021, -0.5961,  0.5961]],\n",
      "\n",
      "          [[-0.6048, -0.5925,  0.5988],\n",
      "           [-0.6008, -0.5954,  0.6018],\n",
      "           [-0.5967, -0.5984,  0.6048],\n",
      "           ...,\n",
      "           [ 0.5967, -0.5984,  0.6048],\n",
      "           [ 0.6008, -0.5954,  0.6018],\n",
      "           [ 0.6048, -0.5925,  0.5988]],\n",
      "\n",
      "          ...,\n",
      "\n",
      "          [[-0.6048,  0.5925,  0.5988],\n",
      "           [-0.6008,  0.5954,  0.6018],\n",
      "           [-0.5967,  0.5984,  0.6048],\n",
      "           ...,\n",
      "           [ 0.5967,  0.5984,  0.6048],\n",
      "           [ 0.6008,  0.5954,  0.6018],\n",
      "           [ 0.6048,  0.5925,  0.5988]],\n",
      "\n",
      "          [[-0.6021,  0.5961,  0.5961],\n",
      "           [-0.5981,  0.5991,  0.5991],\n",
      "           [-0.5941,  0.6021,  0.6021],\n",
      "           ...,\n",
      "           [ 0.5941,  0.6021,  0.6021],\n",
      "           [ 0.5981,  0.5991,  0.5991],\n",
      "           [ 0.6021,  0.5961,  0.5961]],\n",
      "\n",
      "          [[-0.5993,  0.5996,  0.5934],\n",
      "           [-0.5954,  0.6027,  0.5964],\n",
      "           [-0.5914,  0.6057,  0.5994],\n",
      "           ...,\n",
      "           [ 0.5914,  0.6057,  0.5994],\n",
      "           [ 0.5954,  0.6027,  0.5964],\n",
      "           [ 0.5993,  0.5996,  0.5934]]],\n",
      "\n",
      "\n",
      "         [[[-0.5966, -0.5969,  0.5969],\n",
      "           [-0.5927, -0.5999,  0.5999],\n",
      "           [-0.5887, -0.6029,  0.6029],\n",
      "           ...,\n",
      "           [ 0.5887, -0.6029,  0.6029],\n",
      "           [ 0.5927, -0.5999,  0.5999],\n",
      "           [ 0.5966, -0.5969,  0.5969]],\n",
      "\n",
      "          [[-0.5993, -0.5934,  0.5996],\n",
      "           [-0.5954, -0.5964,  0.6027],\n",
      "           [-0.5914, -0.5994,  0.6057],\n",
      "           ...,\n",
      "           [ 0.5914, -0.5994,  0.6057],\n",
      "           [ 0.5954, -0.5964,  0.6027],\n",
      "           [ 0.5993, -0.5934,  0.5996]],\n",
      "\n",
      "          [[-0.6020, -0.5898,  0.6024],\n",
      "           [-0.5981, -0.5927,  0.6054],\n",
      "           [-0.5940, -0.5957,  0.6084],\n",
      "           ...,\n",
      "           [ 0.5940, -0.5957,  0.6084],\n",
      "           [ 0.5981, -0.5927,  0.6054],\n",
      "           [ 0.6020, -0.5898,  0.6024]],\n",
      "\n",
      "          ...,\n",
      "\n",
      "          [[-0.6020,  0.5898,  0.6024],\n",
      "           [-0.5981,  0.5927,  0.6054],\n",
      "           [-0.5940,  0.5957,  0.6084],\n",
      "           ...,\n",
      "           [ 0.5940,  0.5957,  0.6084],\n",
      "           [ 0.5981,  0.5927,  0.6054],\n",
      "           [ 0.6020,  0.5898,  0.6024]],\n",
      "\n",
      "          [[-0.5993,  0.5934,  0.5996],\n",
      "           [-0.5954,  0.5964,  0.6027],\n",
      "           [-0.5914,  0.5994,  0.6057],\n",
      "           ...,\n",
      "           [ 0.5914,  0.5994,  0.6057],\n",
      "           [ 0.5954,  0.5964,  0.6027],\n",
      "           [ 0.5993,  0.5934,  0.5996]],\n",
      "\n",
      "          [[-0.5966,  0.5969,  0.5969],\n",
      "           [-0.5927,  0.5999,  0.5999],\n",
      "           [-0.5887,  0.6029,  0.6029],\n",
      "           ...,\n",
      "           [ 0.5887,  0.6029,  0.6029],\n",
      "           [ 0.5927,  0.5999,  0.5999],\n",
      "           [ 0.5966,  0.5969,  0.5969]]]]])}\n",
      "Transformed data shape: torch.Size([1, 1, 192, 192, 174])\n",
      "Transformed mask shape: torch.Size([1, 1, 192, 192, 174])\n",
      "Transformed data min: 0.0\n",
      "Transformed data max: 459.3555603027344\n",
      "Transformed data mean: 54.32514190673828\n"
     ]
    }
   ],
   "source": [
    "trafo = RadialDistortion(scale=[0.1, 1., 0.1])\n",
    "transformed = apply_transform(trafo, batch)\n",
    "view_batch(transformed)"
   ]
  },
  {
   "cell_type": "code",
   "execution_count": null,
   "metadata": {},
   "outputs": [],
   "source": []
  }
 ],
 "metadata": {
  "kernelspec": {
   "display_name": "Python 3",
   "language": "python",
   "name": "python3"
  },
  "language_info": {
   "codemirror_mode": {
    "name": "ipython",
    "version": 3
   },
   "file_extension": ".py",
   "mimetype": "text/x-python",
   "name": "python",
   "nbconvert_exporter": "python",
   "pygments_lexer": "ipython3",
   "version": "3.7.5"
  },
  "toc": {
   "base_numbering": 1,
   "nav_menu": {},
   "number_sections": true,
   "sideBar": true,
   "skip_h1_title": false,
   "title_cell": "Table of Contents",
   "title_sidebar": "Contents",
   "toc_cell": false,
   "toc_position": {},
   "toc_section_display": true,
   "toc_window_display": false
  },
  "varInspector": {
   "cols": {
    "lenName": 16,
    "lenType": 16,
    "lenVar": 40
   },
   "kernels_config": {
    "python": {
     "delete_cmd_postfix": "",
     "delete_cmd_prefix": "del ",
     "library": "var_list.py",
     "varRefreshCmd": "print(var_dic_list())"
    },
    "r": {
     "delete_cmd_postfix": ") ",
     "delete_cmd_prefix": "rm(",
     "library": "var_list.r",
     "varRefreshCmd": "cat(var_dic_list()) "
    }
   },
   "types_to_exclude": [
    "module",
    "function",
    "builtin_function_or_method",
    "instance",
    "_Feature"
   ],
   "window_display": false
  }
 },
 "nbformat": 4,
 "nbformat_minor": 4
}
